{
 "cells": [
  {
   "attachments": {},
   "cell_type": "markdown",
   "metadata": {},
   "source": [
    "![image](./banner.png)\n",
    "# Rap Bot powered by GPT 3.5 API & Tacotron 2\n",
    "\n",
    "This Rap Bot can be used to generate high quality rap lyrics with interesting rythme schemes, and to synthesize vocals by using Tacotron 2 models which can be trained to clone voices.\n",
    "\n",
    "In this tutorial, we're going to use a Tacotron 2 model trained on few Eminem rap songs, which is used for presentation purposes only.\n",
    "\n",
    "**Set-up:**\n",
    "1. Run the following command to install required dependencies `pip install -r requirements.txt --extra-index-url https://download.pytorch.org/whl/cu117 -U`\n",
    "2. Create \"credentials.py\" file in current directory, containing your OpenAI API key.:\n",
    "    - example: `API_KEY_OPENAI = \"sk-xxxxxxxxxxxxxxxxxxxxxxxxxxxxxxxxxxxxxxxxxxxxxxxx\"`\n",
    "3. If you want to use your own Tacotron 2 model, make sure to copy it into the \"fakeyou\" directory."
   ]
  },
  {
   "cell_type": "code",
   "execution_count": 1,
   "metadata": {},
   "outputs": [
    {
     "name": "stderr",
     "output_type": "stream",
     "text": [
      "c:\\Users\\mlwit\\.conda\\envs\\fakeyou\\lib\\site-packages\\tqdm\\auto.py:21: TqdmWarning: IProgress not found. Please update jupyter and ipywidgets. See https://ipywidgets.readthedocs.io/en/stable/user_install.html\n",
      "  from .autonotebook import tqdm as notebook_tqdm\n"
     ]
    }
   ],
   "source": [
    "# import libraries\n",
    "\n",
    "import os\n",
    "import numpy as np\n",
    "\n",
    "import openai\n",
    "import requests\n",
    "\n",
    "import gradio as gr\n",
    "\n",
    "from TT2_FakeYou import *\n",
    "\n",
    "try:\n",
    "    import credentials\n",
    "except:\n",
    "    raise Exception(\"No 'credentials.py' file in current directory!\")"
   ]
  },
  {
   "cell_type": "code",
   "execution_count": 2,
   "metadata": {},
   "outputs": [],
   "source": [
    "# check initial project structure\n",
    "\n",
    "if \"fakeyou\" not in os.listdir():\n",
    "    raise Exception(\"Can't find the sub-directory 'fakeyou' in current directory!\")\n",
    "else:\n",
    "    if \"__init__.py\" not in os.listdir('./fakeyou'):\n",
    "        raise Exception(\"Can't find the file '__init__.py' in 'fakeyou' sub-directory!\")"
   ]
  },
  {
   "cell_type": "code",
   "execution_count": 3,
   "metadata": {},
   "outputs": [],
   "source": [
    "# setting openai API variables\n",
    "\n",
    "POST_url = \"https://api.openai.com/v1/chat/completions\"\n",
    "openai.api_key = credentials.API_KEY_OPENAI"
   ]
  },
  {
   "attachments": {},
   "cell_type": "markdown",
   "metadata": {},
   "source": [
    "**Example of gpt-3.5-turbo API response:**\n",
    "```json\n",
    "{'id': 'chatcmpl-7Clt1sElUOuw7qsCgPk9mWz2Lo47N',\n",
    " 'object': 'chat.completion',\n",
    " 'created': 1683278367,\n",
    " 'model': 'gpt-3.5-turbo-0301',\n",
    " 'usage': {'prompt_tokens': 46, 'completion_tokens': 47, 'total_tokens': 93},\n",
    " 'choices': [{'message': {'role': 'assistant',\n",
    " 'content': \"Palms are sweaty, knees weak, arms are heavy\\nAs I prepare to spit rhymes that are deadly\\nMom's spaghetti's ready, I'm feeling steady\\nI'm gonna own this stage, no need to be petty.\"},\n",
    " 'finish_reason': 'stop',\n",
    " 'index': 0}]}\n",
    " ```"
   ]
  },
  {
   "attachments": {},
   "cell_type": "markdown",
   "metadata": {},
   "source": [
    "**POST request Notes:**\n",
    " - The main input is the messages parameter. Messages must be an array of message objects, where each object has a role (either \"system\", \"user\", or \"assistant\") and content (the content of the message).\n",
    " - Typically, a conversation is formatted with a \"system\" message first, followed by alternating \"user\" and \"assistant\" messages.\n",
    " - The system message helps set the behavior of the assistant. In the example above, the assistant was instructed with \"You are a helpful assistant.\""
   ]
  },
  {
   "attachments": {},
   "cell_type": "markdown",
   "metadata": {},
   "source": [
    "## Gradio Application"
   ]
  },
  {
   "cell_type": "code",
   "execution_count": 4,
   "metadata": {},
   "outputs": [],
   "source": [
    "def openai_request(history, temp):\n",
    "    # create API request payload & headers\n",
    "    payload = {\n",
    "    \"model\": 'gpt-3.5-turbo',\n",
    "    \"messages\": history,\n",
    "    \"temperature\": temp,\n",
    "    \"top_p\": 1.0,\n",
    "    \"n\": 1,\n",
    "    \"stream\": False,\n",
    "    \"presence_penalty\": 0,\n",
    "    \"frequency_penalty\": 0\n",
    "    }\n",
    "    headers = {\n",
    "        \"Content-Type\": \"application/json\",\n",
    "        \"Authorization\": f\"Bearer {openai.api_key}\"\n",
    "    }\n",
    "\n",
    "    # send POST request\n",
    "    response = requests.post(POST_url, headers=headers, json=payload, stream=False)\n",
    "\n",
    "    return response.json()['choices'][0][\"message\"]\n",
    "\n",
    "def chatbot_history(history):\n",
    "    # create a list of tuples (user msg, gpt response) for the gradio chatbot component.\n",
    "    chatbot_hist=[]\n",
    "    for i in range(1, len(history), 2):\n",
    "        chatbot_hist.append((history[i][\"content\"],history[i+1][\"content\"]))\n",
    "    return chatbot_hist\n",
    "\n",
    "def chatgpt_clone(input, history, params):\n",
    "    # record conversation history with the chatbot\n",
    "    if not history:\n",
    "        if params['style']==\"None\":\n",
    "            history.append({\"role\": \"system\", \"content\": f\"You are a skilled rapper.\"})\n",
    "        else:\n",
    "            history.append({\"role\": \"system\", \"content\": f\"You are a skilled {params['style']} rapper.\"})\n",
    "    # define prompt structure and sent API request\n",
    "    prompt = {\"role\":\"user\", \"content\": input}\n",
    "    response = openai_request(history, params['temp'])\n",
    "\n",
    "    # update chat history \n",
    "    history.append(prompt)\n",
    "    history.append(response)\n",
    "    chatbot_hist = chatbot_history(history)\n",
    "    \n",
    "    return chatbot_hist, history\n",
    "\n"
   ]
  },
  {
   "cell_type": "code",
   "execution_count": 5,
   "metadata": {},
   "outputs": [
    {
     "name": "stderr",
     "output_type": "stream",
     "text": [
      "c:\\Users\\mlwit\\.conda\\envs\\fakeyou\\lib\\site-packages\\gradio\\utils.py:910: UserWarning: Expected at least 2 arguments for function <function initialize_tacotron2 at 0x00000292026BCA68>, received 1.\n",
      "  f\"Expected at least {min_args} arguments for function {fn}, received {arg_count}.\"\n"
     ]
    },
    {
     "name": "stdout",
     "output_type": "stream",
     "text": [
      "Running on local URL:  http://127.0.0.1:7860\n",
      "\n",
      "To create a public link, set `share=True` in `launch()`.\n"
     ]
    },
    {
     "data": {
      "text/html": [
       "<div><iframe src=\"http://127.0.0.1:7860/\" width=\"100%\" height=\"500\" allow=\"autoplay; camera; microphone; clipboard-read; clipboard-write;\" frameborder=\"0\" allowfullscreen></iframe></div>"
      ],
      "text/plain": [
       "<IPython.core.display.HTML object>"
      ]
     },
     "metadata": {},
     "output_type": "display_data"
    },
    {
     "name": "stdout",
     "output_type": "stream",
     "text": [
      "Removing weight norm...\n",
      "Removing weight norm...\n",
      "max value is  tensor(1.0010, device='cuda:0')\n"
     ]
    },
    {
     "name": "stderr",
     "output_type": "stream",
     "text": [
      "c:\\Users\\mlwit\\.conda\\envs\\fakeyou\\lib\\site-packages\\torch\\functional.py:633: UserWarning: stft will soon require the return_complex parameter be given for real inputs, and will further require that return_complex=True in a future PyTorch release. (Triggered internally at C:\\actions-runner\\_work\\pytorch\\pytorch\\builder\\windows\\pytorch\\aten\\src\\ATen\\native\\SpectralOps.cpp:804.)\n",
      "  normalized, onesided, return_complex)\n"
     ]
    },
    {
     "name": "stdout",
     "output_type": "stream",
     "text": [
      "max value is  tensor(1.0015, device='cuda:0')\n",
      "max value is  tensor(1.0004, device='cuda:0')\n",
      "Keyboard interruption in main thread... closing server.\n"
     ]
    },
    {
     "data": {
      "text/plain": []
     },
     "execution_count": 5,
     "metadata": {},
     "output_type": "execute_result"
    }
   ],
   "source": [
    "with gr.Blocks(theme='finlaymacklon/smooth_slate') as blocks:\n",
    "    gr.Markdown(\"\"\"<h1><center>Rap Bot</center></h1>\"\"\")\n",
    "    with gr.Row():\n",
    "        with gr.Column(scale=0.8):\n",
    "            gr.Markdown(\"\"\"<p>This rap bot allows you to:</p>\n",
    "            <ol>\n",
    "            <li>Generate great rap lyrics.</li>\n",
    "            <li>Clone real rapper voices singing the generated lyrics.</li>\n",
    "            </ol>\n",
    "            \"\"\")\n",
    "        with gr.Column(scale=0.2):\n",
    "            error_box = gr.Textbox(value=\"App Running..\", show_label=False, interactive=False)\n",
    "\n",
    "    def get_params(slider,radio,params):\n",
    "        params['temp']=slider\n",
    "        params['style']=radio\n",
    "        return params\n",
    "    \n",
    "\n",
    "    with gr.Tab(label=\"Generate lyrics\"):\n",
    "        gr.Markdown(\"\"\"This chatbot is running on ChatGPT API.\\\\\n",
    "                        Consider yourself talking to a very skilled rapper.\\\\\n",
    "                        Generate lyrics and copy them for audio generation.\"\"\")\n",
    "        with gr.Row():\n",
    "            with gr.Column(scale=0.3):\n",
    "                temp_slider = gr.Slider(0,2, value=1, step=0.01, label=\"Creativity\",\n",
    "                                         info=\"This parameter indicates the degree of randomness for the rap bot model.\")\n",
    "                rap_style_radio = gr.Radio([\"Old school\",\"Trap\",\"Clean\",\"Mumble\",\"None\"], label=\"Style\", value=\"None\")\n",
    "                set_params_btn = gr.Button(\"Set parameters\")\n",
    "                params = gr.State(value={'temp':1, 'style':\"None\"})\n",
    "                set_params_btn.click(get_params, inputs=[temp_slider,rap_style_radio,params], outputs=params)\n",
    "                draft_box = gr.TextArea(label='Draft', max_lines=50,\n",
    "                                         placeholder=\"Use this area as notepad to edit or adjust generated lyrics.\")\n",
    "            with gr.Column(scale=0.7):\n",
    "                chatbot = gr.Chatbot(label=\"Talk to me!\")\n",
    "                state = gr.State([])\n",
    "                with gr.Row():\n",
    "                    message = gr.Textbox(show_label=False,placeholder='What kind of rap lyrics you want to generate?')\n",
    "                    send_btn = gr.Button(\"SEND\").style(full_width=False, size='sm')\n",
    "                send_btn.click(chatgpt_clone, inputs=[message, state, params], outputs=[chatbot, state])\n",
    "    \n",
    "    with gr.Tab(label=\"Generate voice\"):\n",
    "        gr.Markdown(\"\"\"## How to use?\n",
    "                        1. Set parameters for Tacotron 2 & HiFi-GAN models.\n",
    "                        2. Initialize Tacotron 2 (May take few minutes when running for 1st time).\n",
    "                        3. Enter lyrics.\n",
    "                        4. Generate audio.\"\"\")\n",
    "        with gr.Row():\n",
    "            with gr.Column(scale=0.3):\n",
    "                params_state = gr.State({'initialized':False})\n",
    "\n",
    "                tacotron_id = gr.Textbox(label=\"Tacotron2 ID\", placeholder=\"Enter Tacotron2 trained model name.\")\n",
    "                hifigan_id = gr.Textbox(label=\"HiFi-GAN Model\", value=\"universal\",\n",
    "                                         info='Default model is \"Universal\" but has some robotic noise.\\\n",
    "                                              Provide Google Drive ID to use a custom model.')\n",
    "                pronounciation_dic_box = gr.Checkbox(label=\"Pronounciation Dict\",value=False)\n",
    "                show_graphs_box = gr.Checkbox(label=\"Show Graphs\", value=True)\n",
    "                max_duration_field = gr.Number(value=20, label='Max Duration')\n",
    "                stop_threshold_field = gr.Number(value=0.5, label='Stop Threshold')\n",
    "                superres_strength_field = gr.Number(value=10, label='Super Resolution Strength',\n",
    "                                                     info='If the audio sounds too artificial, you can lower the superres_strength')\n",
    "                set_params_btn = gr.Button(value=\"Set Parameters\")\n",
    "\n",
    "                input_list=[params_state,error_box,tacotron_id,hifigan_id,pronounciation_dic_box,show_graphs_box,\n",
    "                            max_duration_field,stop_threshold_field,superres_strength_field]\n",
    "                set_params_btn.click(get_tt2_params, inputs=input_list, outputs=[params_state,error_box])\n",
    "                gr.Markdown(\"---\")\n",
    "                gr.Markdown(\"\"\"<span style=\"color:grey\">Always re-initialize Tactron 2 after changing parameters.</span>\"\"\")\n",
    "                gr.Markdown(\"---\")\n",
    "                initialize_btn = gr.Button(value=\"Initialize Tacotron2\")\n",
    "                initialization_status = gr.Textbox(label=\"Initialization status\")\n",
    "                initialize_btn.click(initialize_tacotron2, inputs=[params_state],\n",
    "                                      outputs=[initialization_status, params_state])\n",
    "\n",
    "            with gr.Column(scale=0.7):\n",
    "\n",
    "                lyrics_box = gr.TextArea(label='Lyrics', placeholder='Enter lyrics here')\n",
    "                generate_audio_btn = gr.Button(value='Generate Audio')\n",
    "                audio_player = gr.Audio(label='Result Audio')\n",
    "                with gr.Row():\n",
    "                    result_image1 = gr.Image(label='Results Image 1', shape=(450,360))\n",
    "                    result_image2 = gr.Image(label='Results Image 2', shape=(450,360))\n",
    "                generate_audio_btn.click(end_to_end_infer, inputs=[lyrics_box, params_state],\n",
    "                                          outputs=[audio_player, result_image1, result_image2])\n",
    "                gr.Markdown(\"---\")\n",
    "                gr.Markdown(\"---\")\n",
    "                update_tt2_box = gr.Textbox(label='Tacotron2 ID', placeholder='Enter new TT2 model name')\n",
    "                update_hifigan_box = gr.Textbox(label='HiFi-GAN Model', placeholder='Enter new HiFi-GAN model name')\n",
    "                update_models_btn = gr.Button(value='Update models')\n",
    "                update_models_btn.click(update_tt2_model, inputs=[params_state,update_tt2_box,update_hifigan_box],\n",
    "                                         outputs=[params_state])\n",
    "                \n",
    "        gr.Markdown(\"\"\"## Common Error messages:\n",
    "                        1. 'No TACOTRON2 ID provided': The user forget to input a Tacotron 2 ID.\n",
    "                        2. 'Invalid Tacotron ID': Can't find Tacotron 2 model with the provided ID in fakeyou sub-directory or in Google drive. Or the download from G-Drive failed!\n",
    "                        \"\"\")\n",
    "                \n",
    "\n",
    "blocks.queue().launch(show_error=True, debug = True)"
   ]
  },
  {
   "cell_type": "code",
   "execution_count": 6,
   "metadata": {},
   "outputs": [
    {
     "name": "stdout",
     "output_type": "stream",
     "text": [
      "Closing server running on port: 7860\n"
     ]
    }
   ],
   "source": [
    "blocks.close()"
   ]
  },
  {
   "cell_type": "code",
   "execution_count": 16,
   "metadata": {},
   "outputs": [],
   "source": [
    "test_lyrics_1 = \"\"\"You can try to break me, but I won't fall.\n",
    " My spirit's unbreakable, I stand tall. \n",
    " I've been through the worst, and I've come out strong.\n",
    " My will's unshakable, I keep pushing on.\n",
    " My rhymes are like a weapon, my flow's like a beast.\n",
    " I'll take on any challenger, and put 'em to sleep.\n",
    " I won't back down, I won't give in.\n",
    " My resolve's unbreakable, my drive's within.\"\"\"\n",
    "\n",
    "test_lyrics_2 = \"\"\" I'm the lyrical master, no one can test me.\n",
    "Spitting rhymes so fast, you'll blink and miss me.\n",
    "My flow's so smooth, it's like butter on hot bread.\n",
    "I light up the mic, like a flame that's just been fed.\n",
    "My lines are sharp as a razor, my delivery precise.\n",
    "I dominate the game, I'm like a king on his throne.\n",
    "My verbal onslaught hits hard, like a brick in your dome.\n",
    "I'm the real Slim Shady, Eminem clone.\"\"\""
   ]
  },
  {
   "cell_type": "code",
   "execution_count": null,
   "metadata": {},
   "outputs": [],
   "source": []
  }
 ],
 "metadata": {
  "kernelspec": {
   "display_name": "PTYOLO",
   "language": "python",
   "name": "python3"
  },
  "language_info": {
   "codemirror_mode": {
    "name": "ipython",
    "version": 3
   },
   "file_extension": ".py",
   "mimetype": "text/x-python",
   "name": "python",
   "nbconvert_exporter": "python",
   "pygments_lexer": "ipython3",
   "version": "3.7.16"
  },
  "orig_nbformat": 4
 },
 "nbformat": 4,
 "nbformat_minor": 2
}
